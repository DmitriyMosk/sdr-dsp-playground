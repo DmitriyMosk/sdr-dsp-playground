{
 "cells": [
  {
   "cell_type": "code",
   "execution_count": null,
   "metadata": {},
   "outputs": [
    {
     "ename": "SyntaxError",
     "evalue": "positional argument follows keyword argument (2236221509.py, line 41)",
     "output_type": "error",
     "traceback": [
      "\u001b[0;36m  Cell \u001b[0;32mIn[12], line 41\u001b[0;36m\u001b[0m\n\u001b[0;31m    plt.hist(xn_1, bins = 20, alpha = 0,5, edgecolor = 'black')\u001b[0m\n\u001b[0m                                                              ^\u001b[0m\n\u001b[0;31mSyntaxError\u001b[0m\u001b[0;31m:\u001b[0m positional argument follows keyword argument\n"
     ]
    }
   ],
   "source": [
    "import matplotlib.pyplot as plt\n",
    "import numpy as np\n",
    "\n",
    "\"task 1\"\n",
    "\n",
    "x = np.arange ( -5, 5, 0.01 )\n",
    "t = np.linspace (0, 3, 1000)\n",
    "\n",
    "sigma_2 = 1\n",
    "mx = 0\n",
    "w_x_1 = (1 / (np.sqrt (2 * np.pi * sigma_2 ))) * (np.exp((-(x - mx)**2)/(2 * sigma_2)))\n",
    "s1 = np.sqrt(sigma_2)\n",
    "xn_1 = np.random.normal(mx, s1, len(t))\n",
    "\n",
    "sigma_2 = 3\n",
    "mx = 0\n",
    "w_x_2 = (1 / (np.sqrt (2 * np.pi * sigma_2 ))) * (np.exp((-(x - mx)**2)/(2 * sigma_2)))\n",
    "xn_2 = np.random.normal(mx, s1, len(t))\n",
    "\n",
    "sigma_2 = 0.2\n",
    "mx = 0\n",
    "w_x_3 = (1 / (np.sqrt (2 * np.pi * sigma_2 ))) * (np.exp((-(x - mx)**2)/(2 * sigma_2)))\n",
    "xn_3 = np.random.normal(mx, s1, len(t))\n",
    "\n",
    "sigma_2 = 1\n",
    "mx = -1\n",
    "w_x_4 = (1 / (np.sqrt (2 * np.pi * sigma_2 ))) * (np.exp((-(x - mx)**2)/(2 * sigma_2)))\n",
    "xn_4 = np.random.normal(mx, s1, len(t))\n",
    "\n",
    "plt.figure(figsize=(10,6))\n",
    "plt.title('1.1')\n",
    "plt.plot(w_x_1, label = '1')\n",
    "plt.plot(w_x_1, label = '2')\n",
    "plt.plot(w_x_1, label = '3')\n",
    "plt.plot(w_x_1, label = '4')\n",
    "plt.grid()\n",
    "plt.legend()\n",
    "\n",
    "plt.figure(figsize=(10,6))\n",
    "plt.title('2.1')\n",
    "plt.hist(xn_1, bins = 20, alpha = 0.5, edgecolor = 'black')\n",
    "plt.hist(xn_2, bins = 20, alpha = 0.5, edgecolor = 'black')\n",
    "plt.hist(xn_3, bins = 20, alpha = 0.5, edgecolor = 'black')\n",
    "plt.hist(xn_4, bins = 20, alpha = 0.5, edgecolor = 'black')\n",
    "plt.grid()\n",
    "\n",
    "\n",
    "\n",
    "\n",
    "\n"
   ]
  },
  {
   "cell_type": "code",
   "execution_count": null,
   "metadata": {},
   "outputs": [],
   "source": [
    ")"
   ]
  },
  {
   "cell_type": "code",
   "execution_count": null,
   "metadata": {},
   "outputs": [],
   "source": []
  }
 ],
 "metadata": {
  "kernelspec": {
   "display_name": ".venv",
   "language": "python",
   "name": "python3"
  },
  "language_info": {
   "codemirror_mode": {
    "name": "ipython",
    "version": 3
   },
   "file_extension": ".py",
   "mimetype": "text/x-python",
   "name": "python",
   "nbconvert_exporter": "python",
   "pygments_lexer": "ipython3",
   "version": "3.12.3"
  }
 },
 "nbformat": 4,
 "nbformat_minor": 2
}
