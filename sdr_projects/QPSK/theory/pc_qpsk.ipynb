{
 "cells": [
  {
   "cell_type": "code",
   "execution_count": null,
   "metadata": {},
   "outputs": [],
   "source": [
    "import os \n",
    "import numpy as np "
   ]
  },
  {
   "cell_type": "markdown",
   "metadata": {},
   "source": [
    "##### Signal\n",
    "\n",
    "$$S(t) = I\\cos(2 \\pi f_c \\times t) - Q\\sin(2 \\pi f_c \\times t)$$\n",
    "\n",
    "Минимальное расстояние между точками: $$d_{min} = \\sqrt{2}$$"
   ]
  },
  {
   "cell_type": "code",
   "execution_count": null,
   "metadata": {},
   "outputs": [],
   "source": [
    "def i_q_mapping(bin_level: int = 2) -> dict: \n",
    "    if (bin_level == 2): \n",
    "        return {\n",
    "            \"00\": np.pi/4, \n",
    "            \"01\": 3*np.pi/4, \n",
    "            \"10\": 5*np.pi/4,\n",
    "            \"11\": 7*np.pi/4 \n",
    "        }\n",
    "    else: \n",
    "        return {}"
   ]
  }
 ],
 "metadata": {
  "kernelspec": {
   "display_name": ".venv",
   "language": "python",
   "name": "python3"
  },
  "language_info": {
   "name": "python",
   "version": "3.12.6"
  }
 },
 "nbformat": 4,
 "nbformat_minor": 2
}
